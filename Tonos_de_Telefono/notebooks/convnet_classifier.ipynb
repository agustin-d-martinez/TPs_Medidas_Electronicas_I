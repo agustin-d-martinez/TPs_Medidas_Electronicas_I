{
 "cells": [
  {
   "cell_type": "code",
   "execution_count": 1,
   "metadata": {},
   "outputs": [],
   "source": [
    "import numpy as np\n",
    "import os\n",
    "from matplotlib import pyplot as plt\n",
    "from tqdm import tqdm\n",
    "import pandas as pd\n",
    "import seaborn as sn\n",
    "import torch\n",
    "from torch.utils.data import TensorDataset, DataLoader\n",
    "from torch.utils.tensorboard import SummaryWriter\n",
    "from typing import List, Optional\n",
    "import collections\n",
    "from prettytable import PrettyTable\n"
   ]
  },
  {
   "cell_type": "code",
   "execution_count": 2,
   "metadata": {},
   "outputs": [],
   "source": [
    "DEVICE_USE = \"cpu\" # \"cuda\""
   ]
  },
  {
   "cell_type": "markdown",
   "metadata": {},
   "source": [
    "# Definitions"
   ]
  },
  {
   "cell_type": "code",
   "execution_count": 3,
   "metadata": {},
   "outputs": [],
   "source": [
    "# Donde esta la data de los tonos del telefono\n",
    "FILES = \"../data/tektronic-2024\" \n",
    "\n",
    "# Vamos a procesar solo una señal de tension, asi que vamos a tener solo un canal\n",
    "SIGNAL_CHANNELS = 1\n",
    "\n",
    "# Fraccion de muestras que vamos a usar para validar el entrenamiento (no se usan para entrenar)\n",
    "valid_split = 0.10\n",
    "# Cantidad de nuestras ve la red neuronal a cada vez, con esta cantidad de muestras va a decidir q tecla se presiono\n",
    "sample_len = 64\n",
    "\n",
    "# Nuestra red va a tener filtros de esta cantidad de elementos\n",
    "kernels = [32,8,4]\n",
    "# Y va a haber una cantidad de filtros de cada tamaño que elegimos dado por este numero de canales\n",
    "channels = [14,18,22]\n",
    "\n",
    "\n",
    "\n",
    "# Hiperparametros de entrenamiento:\n",
    "\n",
    "# Cantidad de veces voy a pasar TODA la data de entrenamiento por la red\n",
    "epochs = 50 \n",
    "# Velocidad con la que actualizo los pesos de la red\n",
    "lr = 1e-4\n",
    "# Cantidad de muestras que tomo al mismo tiempo y uso para suavizar el calculo del gradiente\n",
    "batch_size = 32\n",
    "# Aca vamos a escribir los archivos de log\n",
    "TENSORBOARD_FILE = \"../untracked/outputs/conv-classifier\"\n",
    "# Aca se va a guardar\n",
    "SAVE_PATH = \"../untracked/outputs/conv-classifier-model\"\n",
    "\n"
   ]
  },
  {
   "cell_type": "markdown",
   "metadata": {},
   "source": [
    "# Dataset Generation"
   ]
  },
  {
   "cell_type": "markdown",
   "metadata": {},
   "source": [
    "### Leemos la data"
   ]
  },
  {
   "cell_type": "code",
   "execution_count": 4,
   "metadata": {},
   "outputs": [],
   "source": [
    "\n",
    "tones_dict = dict()\n",
    "for folder in os.listdir(FILES):\n",
    "    subfolder = os.path.join(FILES,folder)\n",
    "\n",
    "    if 'TIEMPO' in subfolder:\n",
    "        \n",
    "        for file in os.listdir(subfolder):\n",
    "\n",
    "            if '.CSV' in file:\n",
    "                data=np.genfromtxt(os.path.join(subfolder,file),delimiter=',')\n",
    "\n",
    "                name = subfolder.split(\"Medicion Tono \")[-1].split(\" - TIEMPO\")[0]\n",
    "                tones_dict[name] = data[:,4] # Tono\n",
    "\n",
    "                tiempo  =data[:,3]\n",
    "                \n",
    "sample_rate = (tiempo[1]-tiempo[0])\n",
    "f_muestreo = 1/sample_rate\n",
    "\n"
   ]
  },
  {
   "cell_type": "code",
   "execution_count": 5,
   "metadata": {},
   "outputs": [],
   "source": [
    "# sort the dictionary\n",
    "tones_dict = collections.OrderedDict(sorted(tones_dict.items()))"
   ]
  },
  {
   "cell_type": "code",
   "execution_count": 6,
   "metadata": {},
   "outputs": [
    {
     "name": "stdout",
     "output_type": "stream",
     "text": [
      "la red va a ver 2.56 ms de señal\n"
     ]
    }
   ],
   "source": [
    "print(\"la red va a ver %0.2f ms de señal\"%(sample_len*sample_rate*1e3))"
   ]
  },
  {
   "cell_type": "code",
   "execution_count": 7,
   "metadata": {},
   "outputs": [
    {
     "data": {
      "text/plain": [
       "390.6250000000159"
      ]
     },
     "execution_count": 7,
     "metadata": {},
     "output_type": "execute_result"
    }
   ],
   "source": [
    "f_muestreo/sample_len"
   ]
  },
  {
   "cell_type": "code",
   "execution_count": 8,
   "metadata": {},
   "outputs": [],
   "source": [
    "# Calculo el maximo y minimo de las señales\n",
    "max_min = [0,0]\n",
    "for clase, key in enumerate(tones_dict.keys()):\n",
    "    if max(tones_dict[key]) > max_min[0]:\n",
    "        max_min[0] = max(tones_dict[key])\n",
    "    if min(tones_dict[key]) > max_min[1]:\n",
    "        max_min[1] = min(tones_dict[key])\n"
   ]
  },
  {
   "cell_type": "markdown",
   "metadata": {},
   "source": [
    "### Creamos un dataset de pytorch"
   ]
  },
  {
   "cell_type": "code",
   "execution_count": 9,
   "metadata": {},
   "outputs": [
    {
     "name": "stdout",
     "output_type": "stream",
     "text": [
      "(10059, 1, 64)\n",
      "(10059, 12)\n",
      "(1359, 1, 64)\n",
      "(1359, 12)\n"
     ]
    }
   ],
   "source": [
    "# Las clases a clasificar son la cantidad de teclas que grabamos\n",
    "NUM_CLASES = len(list(tones_dict.keys()))\n",
    "\n",
    "\n",
    "train_samples_list = list()\n",
    "train_targets_list = list()\n",
    "validation_samples_list = list()\n",
    "validation_targets_list = list()\n",
    "for num_draws in range(25):\n",
    "\n",
    "    for clase, key in enumerate(tones_dict.keys()):\n",
    "        # Normalizamos\n",
    "        signa_use = tones_dict[key]\n",
    "        signa_use = (signa_use-max_min[1])/(max_min[0]-max_min[1])\n",
    "\n",
    "        # Cortamos y agregamos al datasey\n",
    "        total_len = len(signa_use)\n",
    "\n",
    "        total_samples = np.floor(total_len/sample_len).astype(int)\n",
    "        valid_samples = np.round(total_samples*valid_split).astype(int)\n",
    "\n",
    "        for sample_t in range(total_samples):\n",
    "\n",
    "            # Select random start for draw\n",
    "            start_rand = int((np.random.random(1)-0.5)*100)\n",
    "            this_start = (sample_t*sample_len)+start_rand\n",
    "            this_end = ((sample_t+1)*sample_len)+start_rand\n",
    "            if this_start < 0:\n",
    "                continue\n",
    "            if this_end >= total_len:\n",
    "                continue\n",
    "\n",
    "            # crop sample\n",
    "            this_sample = np.expand_dims(signa_use[this_start:this_end], axis =0)\n",
    "            # one-hot target\n",
    "            this_target = np.zeros((NUM_CLASES))\n",
    "            this_target[clase] = 1\n",
    "            # Assign\n",
    "            if sample_t <= valid_samples:\n",
    "                validation_samples_list.append(this_sample)\n",
    "                validation_targets_list.append(this_target)\n",
    "            else:\n",
    "                train_samples_list.append(this_sample)\n",
    "                train_targets_list.append(this_target)\n",
    "                \n",
    "train_samples = np.array(train_samples_list)\n",
    "print(train_samples.shape)\n",
    "train_targets = np.array(train_targets_list)\n",
    "print(train_targets.shape)\n",
    "validation_samples = np.array(validation_samples_list)\n",
    "print(validation_samples.shape)\n",
    "validation_targets = np.array(validation_targets_list)\n",
    "print(validation_targets.shape)\n",
    "\n",
    "tensor_x = torch.Tensor(train_samples) # transform to torch tensor\n",
    "tensor_y = torch.Tensor(train_targets)\n",
    "train_dataset = TensorDataset(tensor_x,tensor_y) # create your datset\n",
    "tensor_x = torch.Tensor(validation_samples) # transform to torch tensor\n",
    "tensor_y = torch.Tensor(validation_targets)\n",
    "validation_dataset = TensorDataset(tensor_x,tensor_y) # create your datset\n",
    "\n",
    "\n"
   ]
  },
  {
   "cell_type": "markdown",
   "metadata": {},
   "source": [
    "# Neural Network Creation\n",
    "\n",
    "Aca creamos la red neuronal, va a ser una red convolucional, la cual aprende formas de señal en cada uno de sus filtros (canales de los layers torch.nn.Conv1d)"
   ]
  },
  {
   "cell_type": "code",
   "execution_count": 10,
   "metadata": {},
   "outputs": [],
   "source": [
    "class ConvClassifier(torch.nn.Module):\n",
    "    def __init__(\n",
    "        self,\n",
    "        in_channels: int,\n",
    "        out_channels: int,\n",
    "        kernels: List[int] =  [],\n",
    "        channels: List[int] =  [],\n",
    "    ):\n",
    "        super().__init__()\n",
    "\n",
    "        self.conv_layers = list()\n",
    "\n",
    "        assert len(kernels) == len(channels)\n",
    "\n",
    "        # Aca proceamos la señal con una serie de filtros y vamos reduciendo el tamaño del vector de entrada\n",
    "        self.conv1 = torch.nn.Conv1d(in_channels, channels[0], kernels[0],padding=\"same\")\n",
    "        self.act1 = torch.nn.ReLU()\n",
    "        self.pool1 = torch.nn.MaxPool1d(kernel_size=2)\n",
    "        self.conv2 = torch.nn.Conv1d(channels[0], channels[1], kernels[1],padding=\"same\")\n",
    "        self.act2 = torch.nn.ReLU()\n",
    "        self.pool2 = torch.nn.MaxPool1d(kernel_size=2)\n",
    "        self.conv3 = torch.nn.Conv1d(channels[1], channels[2], kernels[2],padding=\"same\")\n",
    "        self.act3 = torch.nn.ReLU()\n",
    "        self.pool3 = torch.nn.MaxPool1d(kernel_size=2)\n",
    "\n",
    "        # Esto solo transforma un tensor (matriz de mas de 2 dimenciones) en un vector\n",
    "        self.flat = torch.nn.Flatten()\n",
    "\n",
    "        # Este es el ultimo layer clasificador que aprende, mas que nada sirve para adaptar la salida de los layers anteriores a la cantidad de clases a clasificar.\n",
    "        self.linear = torch.nn.Linear(channels[-1]*int(sample_len/(2**len(kernels))), out_channels)\n",
    "\n",
    "        # Y esto convierte una salida de numeros arbitrarios en una distribucion de probabilidad (ponele)\n",
    "        self.softmax = torch.nn.Softmax(dim=-1)\n",
    "\n",
    "    def forward(self, x):\n",
    "        # Esto es lo q se hace cuando se llama a la clase\n",
    "        x = self.conv1(x)\n",
    "        x = self.act1(x)\n",
    "        x = self.pool1(x)\n",
    "        x = self.conv2(x)\n",
    "        x = self.act2(x)\n",
    "        x = self.pool2(x)\n",
    "        x = self.conv3(x)\n",
    "        x = self.act3(x)\n",
    "        x = self.pool3(x)\n",
    "        x = self.flat(x)\n",
    "        x = self.linear(x)\n",
    "        return self.softmax(x)\n"
   ]
  },
  {
   "cell_type": "code",
   "execution_count": 11,
   "metadata": {},
   "outputs": [],
   "source": [
    "# Ahora instanciamos el modelo\n",
    "model: torch.nn.Module = (\n",
    "    ConvClassifier(\n",
    "        in_channels=SIGNAL_CHANNELS,\n",
    "        out_channels=NUM_CLASES,\n",
    "        kernels = kernels,\n",
    "        channels = channels\n",
    "    )\n",
    "    .to(DEVICE_USE)\n",
    ")\n",
    "\n",
    "\n"
   ]
  },
  {
   "cell_type": "code",
   "execution_count": 12,
   "metadata": {},
   "outputs": [
    {
     "name": "stdout",
     "output_type": "stream",
     "text": [
      "torch.Size([8, 1, 64]) torch.Size([8, 12])\n"
     ]
    },
    {
     "name": "stderr",
     "output_type": "stream",
     "text": [
      "/home/rawthil/.cache/pypoetry/virtualenvs/nn4fsm-iQeem2RF-py3.10/lib/python3.10/site-packages/torch/nn/modules/conv.py:306: UserWarning: Using padding='same' with even kernel lengths and odd dilation may require a zero-padded copy of the input be created (Triggered internally at ../aten/src/ATen/native/Convolution.cpp:1031.)\n",
      "  return F.conv1d(input, weight, bias, self.stride,\n"
     ]
    }
   ],
   "source": [
    "# Checkeamos que ande con data random\n",
    "x = torch.randn(8, 1, sample_len).to(DEVICE_USE)\n",
    "y = model(x)\n",
    "print(x.shape, y.shape)"
   ]
  },
  {
   "cell_type": "code",
   "execution_count": 13,
   "metadata": {},
   "outputs": [
    {
     "name": "stdout",
     "output_type": "stream",
     "text": [
      "+---------------+------------+\n",
      "|    Modules    | Parameters |\n",
      "+---------------+------------+\n",
      "|  conv1.weight |    448     |\n",
      "|   conv1.bias  |     14     |\n",
      "|  conv2.weight |    2016    |\n",
      "|   conv2.bias  |     18     |\n",
      "|  conv3.weight |    1584    |\n",
      "|   conv3.bias  |     22     |\n",
      "| linear.weight |    2112    |\n",
      "|  linear.bias  |     12     |\n",
      "+---------------+------------+\n",
      "Total Trainable Params: 6226\n"
     ]
    },
    {
     "data": {
      "text/plain": [
       "6226"
      ]
     },
     "execution_count": 13,
     "metadata": {},
     "output_type": "execute_result"
    }
   ],
   "source": [
    "def count_parameters(model):\n",
    "    table = PrettyTable([\"Modules\", \"Parameters\"])\n",
    "    total_params = 0\n",
    "    for name, parameter in model.named_parameters():\n",
    "        if not parameter.requires_grad:\n",
    "            continue\n",
    "        params = parameter.numel()\n",
    "        table.add_row([name, params])\n",
    "        total_params += params\n",
    "    print(table)\n",
    "    print(f\"Total Trainable Params: {total_params}\")\n",
    "    return total_params\n",
    "    \n",
    "count_parameters(model)"
   ]
  },
  {
   "cell_type": "markdown",
   "metadata": {},
   "source": [
    "# Training"
   ]
  },
  {
   "cell_type": "code",
   "execution_count": 14,
   "metadata": {},
   "outputs": [],
   "source": [
    "# definimos la funcion ojetivo como la entropia cruzada\n",
    "loss: torch.nn.Module = torch.nn.CrossEntropyLoss()\n",
    "# y al optimizador como ADAM\n",
    "optimizer: torch.optim.Optimizer = torch.optim.Adam(model.parameters(), lr=lr)"
   ]
  },
  {
   "cell_type": "code",
   "execution_count": 15,
   "metadata": {},
   "outputs": [],
   "source": [
    "# Creamos las clases \"DataLoader\" a partir de los datasets definidos anteriormente para que controlen los batches de entrenmiento y validacion. \n",
    "train_dataloader = DataLoader(train_dataset,\n",
    "                                   batch_size=batch_size,\n",
    "                                    shuffle=True,)\n",
    "\n",
    "\n",
    "validation_dataloader = DataLoader(validation_dataset,\n",
    "                                   batch_size=batch_size,\n",
    "                                    shuffle=True,)\n"
   ]
  },
  {
   "cell_type": "code",
   "execution_count": 16,
   "metadata": {},
   "outputs": [],
   "source": [
    "# Creamos una metrica para calcular el Accurracy, cuantas señales la red esta clasificando correctamente. \n",
    "# No se usa para entrenar, solo para que lo veamos nosotros.\n",
    "class Accuracy:\n",
    "    correct: int\n",
    "    total: int\n",
    "\n",
    "    def __init__(self) -> None:\n",
    "        self.correct = 0\n",
    "        self.total = 0\n",
    "\n",
    "    def update(self, logits: torch.Tensor, labels: torch.Tensor) -> None:\n",
    "        oh = torch.nn.functional.one_hot(logits.argmax(dim=-1), num_classes=labels.shape[-1]) \n",
    "        self.correct += int((oh*labels).sum())\n",
    "        self.total += labels.shape[0]\n",
    "        return None\n",
    "\n",
    "    def compute(self) -> float:\n",
    "        return self.correct / self.total\n",
    "\n",
    "    def reset(self) -> None:\n",
    "        self.correct = 0\n",
    "        self.total = 0\n",
    "        return None"
   ]
  },
  {
   "cell_type": "code",
   "execution_count": 17,
   "metadata": {},
   "outputs": [],
   "source": [
    "# Declaramos todo lo que vamos a hacer en los pasos de entrenamiento y validacion\n",
    "\n",
    "@torch.enable_grad()\n",
    "def train_step(\n",
    "    model: torch.nn.Module,\n",
    "    train_data: DataLoader,\n",
    "    loss: torch.nn.Module,\n",
    "    optimizer: torch.optim.Optimizer,\n",
    "    writer: SummaryWriter,\n",
    "    epoch: int,\n",
    "    device: torch.device,\n",
    "    accuracy: Accuracy = Accuracy(),\n",
    ") -> None:\n",
    "    \"\"\"\n",
    "    This function train the model.\n",
    "\n",
    "    Args:\n",
    "        model: model to train.\n",
    "        train_data: dataloader of train data.\n",
    "        loss: loss function.\n",
    "        optimizer: optimizer.\n",
    "        writer: writer for tensorboard.\n",
    "        epoch: epoch of the training.\n",
    "        device: device for running operations.\n",
    "    \"\"\"\n",
    "    # Training\n",
    "    model.train()\n",
    "    losses = []\n",
    "\n",
    "    for inputs, targets in train_data:\n",
    "        inputs, targets = inputs.to(device), targets.to(device)\n",
    "\n",
    "        # forward\n",
    "        outputs = model(inputs)\n",
    "\n",
    "        # Compute loss\n",
    "        loss_value = loss(outputs, targets)\n",
    "        losses.append(loss_value.item())\n",
    "\n",
    "        optimizer.zero_grad()\n",
    "        loss_value.backward()\n",
    "        # torch.nn.utils.clip_grad_norm_(model.parameters(), 1.0)\n",
    "        optimizer.step()\n",
    "\n",
    "        accuracy.update(outputs, targets)\n",
    "\n",
    "    # Write to tensorboard\n",
    "    writer.add_scalar(\"train/loss\", np.mean(losses), epoch)\n",
    "    writer.add_scalar(\"train/accuracy\", accuracy.compute(), epoch)\n",
    "    accuracy.reset()\n",
    "\n",
    "\n",
    "@torch.no_grad()\n",
    "def val_step(\n",
    "    model: torch.nn.Module,\n",
    "    val_data: DataLoader,\n",
    "    loss: torch.nn.Module,\n",
    "    scheduler: Optional[torch.optim.lr_scheduler.LRScheduler],\n",
    "    writer: SummaryWriter,\n",
    "    epoch: int,\n",
    "    device: torch.device,\n",
    "    accuracy: Accuracy = Accuracy(),\n",
    ") -> None:\n",
    "    \"\"\"\n",
    "    This function train the model.\n",
    "\n",
    "    Args:\n",
    "        model: model to train.\n",
    "        val_data: dataloader of validation data.\n",
    "        loss: loss function.\n",
    "        scheduler: scheduler.\n",
    "        writer: writer for tensorboard.\n",
    "        epoch: epoch of the training.\n",
    "        device: device for running operations.\n",
    "    \"\"\"\n",
    "    # Validation\n",
    "    model.eval()\n",
    "    losses = []\n",
    "\n",
    "    with torch.no_grad():\n",
    "        for inputs, targets in val_data:\n",
    "            inputs, targets = inputs.to(device), targets.to(device)\n",
    "\n",
    "            # forward\n",
    "            outputs = model(inputs)\n",
    "\n",
    "            # Compute loss\n",
    "            loss_value = loss(outputs, targets)\n",
    "            losses.append(loss_value.item())\n",
    "\n",
    "            # Update accuracy\n",
    "            accuracy.update(outputs, targets)\n",
    "\n",
    "    if scheduler is not None:\n",
    "        scheduler.step()\n",
    "\n",
    "    # Write to tensorboard\n",
    "    writer.add_scalar(\"val/loss\", np.mean(losses), epoch)\n",
    "    writer.add_scalar(\"val/accuracy\", accuracy.compute(), epoch)\n",
    "    accuracy.reset()"
   ]
  },
  {
   "cell_type": "code",
   "execution_count": 18,
   "metadata": {},
   "outputs": [
    {
     "name": "stderr",
     "output_type": "stream",
     "text": [
      "100%|██████████| 50/50 [01:49<00:00,  2.18s/it]\n"
     ]
    }
   ],
   "source": [
    "# Creamos un \"escritor\", el cual usaremos para escribir los archivos de TensorBoard, una aplicacion que nos permite observar cosas durante el entrenamiento de la red.\n",
    "writer = SummaryWriter(TENSORBOARD_FILE)\n",
    "# Instanciamos la clase de accurracy\n",
    "accuracy = Accuracy()\n",
    "# define an empty scheduler\n",
    "scheduler = torch.optim.lr_scheduler.StepLR(optimizer, step_size=45, gamma=0.5)\n",
    "# Train the model\n",
    "for epoch in tqdm(range(epochs)):  # loop over the dataset multiple times\n",
    "    # call train step\n",
    "    train_step(\n",
    "        model, train_dataloader, loss, optimizer, writer, epoch, DEVICE_USE, accuracy\n",
    "    )\n",
    "    # call val step\n",
    "    val_step(model, validation_dataloader, loss, scheduler, writer, epoch, DEVICE_USE, accuracy)\n",
    "    # clear the GPU cache\n",
    "    torch.cuda.empty_cache()"
   ]
  },
  {
   "cell_type": "code",
   "execution_count": 19,
   "metadata": {},
   "outputs": [],
   "source": [
    "torch.save(model.state_dict(), SAVE_PATH)"
   ]
  },
  {
   "cell_type": "markdown",
   "metadata": {},
   "source": [
    "# Reload Model, just because"
   ]
  },
  {
   "cell_type": "code",
   "execution_count": 20,
   "metadata": {},
   "outputs": [
    {
     "data": {
      "text/plain": [
       "<All keys matched successfully>"
      ]
     },
     "execution_count": 20,
     "metadata": {},
     "output_type": "execute_result"
    }
   ],
   "source": [
    "MODEL_CHKP = SAVE_PATH #+ \"-OK\"\n",
    "model.load_state_dict(torch.load(MODEL_CHKP, map_location=torch.device(DEVICE_USE)))"
   ]
  },
  {
   "cell_type": "markdown",
   "metadata": {},
   "source": [
    "# Validation Results\n",
    "\n",
    "Aca miramos un poco que tan bien quedo el modelo"
   ]
  },
  {
   "cell_type": "code",
   "execution_count": 21,
   "metadata": {},
   "outputs": [],
   "source": [
    "# Hacemos una pasada por todo el set de validacion, el cual no esta (tan) sesgado.\n",
    "data_conf_mat = np.zeros((NUM_CLASES,NUM_CLASES))\n",
    "for sample, target in validation_dataloader:\n",
    "    # Invocamos la red\n",
    "    y_hat = model(sample.to(DEVICE_USE))\n",
    "    # Calculamos la clase predicha y la correcta    \n",
    "    for correct, hat in zip(np.argmax(target.to(\"cpu\").numpy(), axis=-1), np.argmax(y_hat.to(\"cpu\").detach().numpy(), axis=-1)):\n",
    "        # Completamos la matriz de confusion\n",
    "        data_conf_mat[correct, hat] += 1\n"
   ]
  },
  {
   "cell_type": "code",
   "execution_count": 22,
   "metadata": {},
   "outputs": [
    {
     "data": {
      "image/png": "[encoded data removed]",
      "text/plain": [
       "<Figure size 640x480 with 2 Axes>"
      ]
     },
     "metadata": {},
     "output_type": "display_data"
    }
   ],
   "source": [
    "# Ploteamos la matriz de confusion que nos dice visualmente donde y como se equivoca la red al clasificar\n",
    "# Una matriz diaganonal es un clasificador perfecto\n",
    "\n",
    "df_cm = pd.DataFrame(data_conf_mat, index = [str(i) for i in tones_dict.keys()],\n",
    "                  columns = [str(i) for i in tones_dict.keys()])\n",
    "plt.figure(dpi = 100)\n",
    "sn.heatmap(df_cm, annot=True)\n",
    "ax = plt.gca()\n",
    "ax.tick_params(axis='x', labelrotation=45)\n",
    "ax.tick_params(axis='y', labelrotation=0)\n",
    "plt.show()"
   ]
  },
  {
   "cell_type": "code",
   "execution_count": 23,
   "metadata": {},
   "outputs": [
    {
     "data": {
      "image/png": "[encoded data removed]",
      "text/plain": [
       "<Figure size 640x480 with 1 Axes>"
      ]
     },
     "metadata": {},
     "output_type": "display_data"
    }
   ],
   "source": [
    "# Para que tengamos una idea, esto es todo lo que la red necesito ver:\n",
    "plt.figure(dpi = 100)\n",
    "plt.plot(sample[0][0,:])\n",
    "plt.show()"
   ]
  }
 ],
 "metadata": {
  "kernelspec": {
   "display_name": ".venv",
   "language": "python",
   "name": "python3"
  },
  "language_info": {
   "codemirror_mode": {
    "name": "ipython",
    "version": 3
   },
   "file_extension": ".py",
   "mimetype": "text/x-python",
   "name": "python",
   "nbconvert_exporter": "python",
   "pygments_lexer": "ipython3",
   "version": "3.10.14"
  }
 },
 "nbformat": 4,
 "nbformat_minor": 2
}
