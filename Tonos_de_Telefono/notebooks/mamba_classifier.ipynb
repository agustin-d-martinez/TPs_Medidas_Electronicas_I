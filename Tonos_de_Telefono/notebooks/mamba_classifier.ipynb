{
 "cells": [
  {
   "cell_type": "code",
   "execution_count": 1,
   "metadata": {},
   "outputs": [],
   "source": [
    "# Maybe you will need to install mamba_ssm like this:\n",
    "# pip install mamba_ssm==2.1.0 --no-build-isolation"
   ]
  },
  {
   "cell_type": "code",
   "execution_count": 2,
   "metadata": {},
   "outputs": [
    {
     "name": "stderr",
     "output_type": "stream",
     "text": [
      "/home/rawthil/Documents/Medidas I - Catedra/Python Scope/pulsos-telefonicos/.venv/lib/python3.12/site-packages/tqdm/auto.py:21: TqdmWarning: IProgress not found. Please update jupyter and ipywidgets. See https://ipywidgets.readthedocs.io/en/stable/user_install.html\n",
      "  from .autonotebook import tqdm as notebook_tqdm\n"
     ]
    }
   ],
   "source": [
    "import numpy as np\n",
    "import os\n",
    "from matplotlib import pyplot as plt\n",
    "from tqdm import tqdm\n",
    "import pandas as pd\n",
    "import seaborn as sn\n",
    "import torch\n",
    "from torch.utils.data import TensorDataset, DataLoader\n",
    "from torch.utils.tensorboard import SummaryWriter\n",
    "from typing import List, Optional\n",
    "\n",
    "import torch\n",
    "from mamba_ssm import Mamba\n",
    "\n",
    "import collections\n",
    "\n",
    "from prettytable import PrettyTable\n"
   ]
  },
  {
   "cell_type": "code",
   "execution_count": 3,
   "metadata": {},
   "outputs": [],
   "source": [
    "DEVICE_USE = \"cuda\" # \"cuda\""
   ]
  },
  {
   "cell_type": "markdown",
   "metadata": {},
   "source": [
    "# Definitions"
   ]
  },
  {
   "cell_type": "code",
   "execution_count": 4,
   "metadata": {},
   "outputs": [],
   "source": [
    "# Donde esta la data de los tonos del telefono\n",
    "FILES = \"../data/tektronic-2024\" \n",
    "\n",
    "# Vamos a procesar solo una señal de tension, asi que vamos a tener solo un canal\n",
    "SIGNAL_CHANNELS = 1\n",
    "\n",
    "# Fraccion de muestras que vamos a usar para validar el entrenamiento (no se usan para entrenar)\n",
    "valid_split = 0.10\n",
    "# Cantidad de nuestras ve la red neuronal a cada vez durante el entrenamiento\n",
    "sample_len = 64\n",
    "\n",
    "# Mamba Hyperparameters:\n",
    "\n",
    "# Cantidad de capas de bloques recursivos\n",
    "n_layers = 3\n",
    "# Dimension del espacio latente\n",
    "latent_state_dim = 32 \n",
    "# Dimension de expansion dentro del bloque recursivo\n",
    "expand = 5 \n",
    "# Tamaño del kernel interno del bloque\n",
    "kernel_size = 4\n",
    "\n",
    "\n",
    "\n",
    "# Hiperparametros de entrenamiento:\n",
    "\n",
    "# Cantidad de veces voy a pasar TODA la data de entrenamiento por la red\n",
    "epochs = 500\n",
    "# Velocidad con la que actualizo los pesos de la red\n",
    "lr = 1e-3\n",
    "# Cantidad de muestras que tomo al mismo tiempo y uso para suavizar el calculo del gradiente\n",
    "batch_size = 64\n",
    "# Aca vamos a escribir los archivos de log\n",
    "TENSORBOARD_FILE = \"../outputs/mamba-classifier\"\n",
    "# Aca se va a guardar\n",
    "SAVE_PATH = \"../outputs/mamba-classifier-model\""
   ]
  },
  {
   "cell_type": "markdown",
   "metadata": {},
   "source": [
    "# Dataset Generation"
   ]
  },
  {
   "cell_type": "markdown",
   "metadata": {},
   "source": [
    "### Leemos la data"
   ]
  },
  {
   "cell_type": "code",
   "execution_count": 5,
   "metadata": {},
   "outputs": [],
   "source": [
    "\n",
    "tones_dict = dict()\n",
    "for folder in os.listdir(FILES):\n",
    "    subfolder = os.path.join(FILES,folder)\n",
    "\n",
    "    if 'TIEMPO' in subfolder:\n",
    "        \n",
    "        for file in os.listdir(subfolder):\n",
    "\n",
    "            if '.CSV' in file:\n",
    "                data=np.genfromtxt(os.path.join(subfolder,file),delimiter=',')\n",
    "\n",
    "                name = subfolder.split(\"Medicion Tono \")[-1].split(\" - TIEMPO\")[0]\n",
    "                tones_dict[name] = data[:,4] # Tono\n",
    "\n",
    "                tiempo  =data[:,3]\n",
    "                \n",
    "sample_rate = (tiempo[1]-tiempo[0])\n",
    "f_muestreo = 1/sample_rate\n",
    "\n"
   ]
  },
  {
   "cell_type": "code",
   "execution_count": 6,
   "metadata": {},
   "outputs": [],
   "source": [
    "# sort the dictionary\n",
    "tones_dict = collections.OrderedDict(sorted(tones_dict.items()))"
   ]
  },
  {
   "cell_type": "code",
   "execution_count": 7,
   "metadata": {},
   "outputs": [
    {
     "name": "stdout",
     "output_type": "stream",
     "text": [
      "la red va a ver 2.56 ms de señal\n"
     ]
    }
   ],
   "source": [
    "print(\"la red va a ver %0.2f ms de señal\"%(sample_len*sample_rate*1e3))"
   ]
  },
  {
   "cell_type": "code",
   "execution_count": 8,
   "metadata": {},
   "outputs": [],
   "source": [
    "# Calculo el maximo y minimo de las señales\n",
    "max_min = [0,0]\n",
    "for clase, key in enumerate(tones_dict.keys()):\n",
    "    if max(tones_dict[key]) > max_min[0]:\n",
    "        max_min[0] = max(tones_dict[key])\n",
    "    if min(tones_dict[key]) > max_min[1]:\n",
    "        max_min[1] = min(tones_dict[key])"
   ]
  },
  {
   "cell_type": "code",
   "execution_count": 9,
   "metadata": {},
   "outputs": [
    {
     "name": "stdout",
     "output_type": "stream",
     "text": [
      "(27000, 64, 1)\n",
      "(27000, 12)\n",
      "(2232, 64, 1)\n",
      "(2232, 12)\n"
     ]
    }
   ],
   "source": [
    "# Las clases a clasificar son la cantidad de teclas que grabamos\n",
    "NUM_CLASES = len(list(tones_dict.keys()))\n",
    "\n",
    "\n",
    "valid_split = 0.10\n",
    "sample_len = 64\n",
    "train_samples_list = list()\n",
    "train_targets_list = list()\n",
    "validation_samples_list = list()\n",
    "validation_targets_list = list()\n",
    "for clase, key in enumerate(tones_dict.keys()):\n",
    "\n",
    "    # Normalizamos\n",
    "    signa_use = tones_dict[key]\n",
    "    signa_use = (signa_use-max_min[1])/(max_min[0]-max_min[1])\n",
    "\n",
    "    total_len = len(signa_use)\n",
    "\n",
    "    total_len_valid = np.round(total_len*valid_split).astype(int)\n",
    "\n",
    "    for sample_t in range(0,total_len-total_len_valid):\n",
    "\n",
    "        if (sample_t + sample_len ) >= total_len:\n",
    "            break\n",
    "\n",
    "        # crop sample\n",
    "        this_sample = np.expand_dims(signa_use[sample_t:sample_t+sample_len], axis =-1)\n",
    "                \n",
    "        # one-hot target\n",
    "        this_target = np.zeros((NUM_CLASES))\n",
    "        this_target[clase] = 1\n",
    "\n",
    "        train_samples_list.append(this_sample)\n",
    "        train_targets_list.append(this_target)\n",
    "    \n",
    "    for sample_t in range(total_len-total_len_valid,total_len):\n",
    "        \n",
    "        if (sample_t + sample_len ) >= total_len:\n",
    "            break\n",
    "\n",
    "        # crop sample\n",
    "        this_sample = np.expand_dims(signa_use[sample_t:sample_t+sample_len], axis =-1)\n",
    "                \n",
    "        # one-hot target\n",
    "        this_target = np.zeros((NUM_CLASES))\n",
    "        this_target[clase] = 1\n",
    "\n",
    "\n",
    "\n",
    "        validation_samples_list.append(this_sample)\n",
    "        validation_targets_list.append(this_target)\n",
    "            \n",
    "train_samples = np.array(train_samples_list)\n",
    "print(train_samples.shape)\n",
    "train_targets = np.array(train_targets_list)\n",
    "print(train_targets.shape)\n",
    "validation_samples = np.array(validation_samples_list)\n",
    "print(validation_samples.shape)\n",
    "validation_targets = np.array(validation_targets_list)\n",
    "print(validation_targets.shape)\n",
    "\n",
    "tensor_x = torch.Tensor(train_samples) # transform to torch tensor\n",
    "tensor_y = torch.Tensor(train_targets)\n",
    "train_dataset = TensorDataset(tensor_x,tensor_y) # create your datset\n",
    "tensor_x = torch.Tensor(validation_samples) # transform to torch tensor\n",
    "tensor_y = torch.Tensor(validation_targets)\n",
    "validation_dataset = TensorDataset(tensor_x,tensor_y) # create your datset\n",
    "\n",
    "\n"
   ]
  },
  {
   "cell_type": "markdown",
   "metadata": {},
   "source": [
    "# Neural Network Creation\n",
    "\n",
    "Aca creamos la red neuronal, va a ser una red recurrente tipo MAMBA, es importante destacar que el tamaño (largo) de la señal no es parte del modelo, es decir, predice de manera continua."
   ]
  },
  {
   "cell_type": "code",
   "execution_count": 10,
   "metadata": {},
   "outputs": [],
   "source": [
    "\n",
    "class RMSNorm(torch.nn.Module):\n",
    "    def __init__(self, size: int, epsilon: float = 1e-5, bias: bool = False):\n",
    "        super().__init__()\n",
    "\n",
    "        self.epsilon = epsilon\n",
    "        self.weight = torch.nn.Parameter(torch.ones(size))\n",
    "        self.bias = torch.nn.Parameter(torch.zeros(size)) if bias else None\n",
    "\n",
    "    def forward(self, x):\n",
    "        normed_x = (\n",
    "            x\n",
    "            * torch.rsqrt(x.pow(2).mean(-1, keepdim=True) + self.epsilon)\n",
    "            * self.weight\n",
    "        )\n",
    "\n",
    "        if self.bias is not None:\n",
    "            return normed_x + self.bias\n",
    "\n",
    "        return normed_x\n",
    "\n",
    "\n",
    "class MambaSignal(torch.nn.Module):\n",
    "    def __init__(\n",
    "        self,\n",
    "        in_channels: int,\n",
    "        out_channels: int,\n",
    "        n_layers: int = 1,\n",
    "        latent_state_dim: int = 16,\n",
    "        expand: int = 2,\n",
    "        kernel_size: int = 4,\n",
    "        dropout: float = 0,\n",
    "    ):\n",
    "        super().__init__()\n",
    "\n",
    "        \n",
    "        self.head1 = torch.nn.Sequential(\n",
    "            *[\n",
    "                Mamba(\n",
    "                    d_model=in_channels,\n",
    "                    d_state=latent_state_dim,\n",
    "                    expand=expand,\n",
    "                    d_conv=kernel_size,\n",
    "                )\n",
    "                for _ in range(n_layers)\n",
    "            ]\n",
    "        )\n",
    "        self.head2 = torch.nn.Sequential(\n",
    "            *[\n",
    "                Mamba(\n",
    "                    d_model=in_channels,\n",
    "                    d_state=latent_state_dim,\n",
    "                    expand=expand,\n",
    "                    d_conv=kernel_size,\n",
    "                )\n",
    "                for _ in range(n_layers)\n",
    "            ]\n",
    "        )\n",
    "        self.head3 = torch.nn.Sequential(\n",
    "            *[\n",
    "                Mamba(\n",
    "                    d_model=in_channels,\n",
    "                    d_state=latent_state_dim,\n",
    "                    expand=expand,\n",
    "                    d_conv=kernel_size,\n",
    "                )\n",
    "                for _ in range(n_layers)\n",
    "            ]\n",
    "        )\n",
    "        self.head4 = torch.nn.Sequential(\n",
    "            *[\n",
    "                Mamba(\n",
    "                    d_model=in_channels,\n",
    "                    d_state=latent_state_dim,\n",
    "                    expand=expand,\n",
    "                    d_conv=kernel_size,\n",
    "                )\n",
    "                for _ in range(n_layers)\n",
    "            ]\n",
    "        )\n",
    "\n",
    "        self.norm = RMSNorm(in_channels)\n",
    "        self.dropout = torch.nn.Dropout(dropout)\n",
    "\n",
    "        self.linear = torch.nn.Linear(in_channels*4, out_channels)\n",
    "\n",
    "        self.softmax = torch.nn.Softmax(dim=-1)\n",
    "\n",
    "    def forward(self, x):\n",
    "        # Get last batch of labels\n",
    "        x1 = self.head1(x)[:,-1]\n",
    "        x2 = self.head2(x)[:,-1]\n",
    "        x3 = self.head3(x)[:,-1]\n",
    "        x4 = self.head4(x)[:,-1]\n",
    "\n",
    "        x = torch.concat((x1,x2,x3,x3), dim=-1)\n",
    "\n",
    "        x = self.linear(x)\n",
    "\n",
    "        return self.softmax(x)\n"
   ]
  },
  {
   "cell_type": "code",
   "execution_count": 11,
   "metadata": {},
   "outputs": [],
   "source": [
    "# define model\n",
    "model: torch.nn.Module = (\n",
    "    MambaSignal(\n",
    "        in_channels=SIGNAL_CHANNELS,\n",
    "        n_layers=n_layers,\n",
    "        latent_state_dim=latent_state_dim,\n",
    "        expand = expand,\n",
    "        kernel_size = kernel_size,\n",
    "        out_channels=NUM_CLASES,\n",
    "    )\n",
    "    .to(DEVICE_USE)\n",
    ")"
   ]
  },
  {
   "cell_type": "code",
   "execution_count": 12,
   "metadata": {},
   "outputs": [
    {
     "name": "stdout",
     "output_type": "stream",
     "text": [
      "torch.Size([8, 64, 1]) torch.Size([8, 12])\n"
     ]
    }
   ],
   "source": [
    "# Testeamos\n",
    "x = torch.randn(8, sample_len, 1).to(DEVICE_USE)\n",
    "y = model(x)\n",
    "print(x.shape, y.shape)"
   ]
  },
  {
   "cell_type": "code",
   "execution_count": 13,
   "metadata": {},
   "outputs": [
    {
     "name": "stdout",
     "output_type": "stream",
     "text": [
      "+-------------------------+------------+\n",
      "|         Modules         | Parameters |\n",
      "+-------------------------+------------+\n",
      "|      head1.0.A_log      |    160     |\n",
      "|        head1.0.D        |     5      |\n",
      "|  head1.0.in_proj.weight |     10     |\n",
      "|  head1.0.conv1d.weight  |     20     |\n",
      "|   head1.0.conv1d.bias   |     5      |\n",
      "|  head1.0.x_proj.weight  |    325     |\n",
      "|  head1.0.dt_proj.weight |     5      |\n",
      "|   head1.0.dt_proj.bias  |     5      |\n",
      "| head1.0.out_proj.weight |     5      |\n",
      "|      head1.1.A_log      |    160     |\n",
      "|        head1.1.D        |     5      |\n",
      "|  head1.1.in_proj.weight |     10     |\n",
      "|  head1.1.conv1d.weight  |     20     |\n",
      "|   head1.1.conv1d.bias   |     5      |\n",
      "|  head1.1.x_proj.weight  |    325     |\n",
      "|  head1.1.dt_proj.weight |     5      |\n",
      "|   head1.1.dt_proj.bias  |     5      |\n",
      "| head1.1.out_proj.weight |     5      |\n",
      "|      head1.2.A_log      |    160     |\n",
      "|        head1.2.D        |     5      |\n",
      "|  head1.2.in_proj.weight |     10     |\n",
      "|  head1.2.conv1d.weight  |     20     |\n",
      "|   head1.2.conv1d.bias   |     5      |\n",
      "|  head1.2.x_proj.weight  |    325     |\n",
      "|  head1.2.dt_proj.weight |     5      |\n",
      "|   head1.2.dt_proj.bias  |     5      |\n",
      "| head1.2.out_proj.weight |     5      |\n",
      "|      head2.0.A_log      |    160     |\n",
      "|        head2.0.D        |     5      |\n",
      "|  head2.0.in_proj.weight |     10     |\n",
      "|  head2.0.conv1d.weight  |     20     |\n",
      "|   head2.0.conv1d.bias   |     5      |\n",
      "|  head2.0.x_proj.weight  |    325     |\n",
      "|  head2.0.dt_proj.weight |     5      |\n",
      "|   head2.0.dt_proj.bias  |     5      |\n",
      "| head2.0.out_proj.weight |     5      |\n",
      "|      head2.1.A_log      |    160     |\n",
      "|        head2.1.D        |     5      |\n",
      "|  head2.1.in_proj.weight |     10     |\n",
      "|  head2.1.conv1d.weight  |     20     |\n",
      "|   head2.1.conv1d.bias   |     5      |\n",
      "|  head2.1.x_proj.weight  |    325     |\n",
      "|  head2.1.dt_proj.weight |     5      |\n",
      "|   head2.1.dt_proj.bias  |     5      |\n",
      "| head2.1.out_proj.weight |     5      |\n",
      "|      head2.2.A_log      |    160     |\n",
      "|        head2.2.D        |     5      |\n",
      "|  head2.2.in_proj.weight |     10     |\n",
      "|  head2.2.conv1d.weight  |     20     |\n",
      "|   head2.2.conv1d.bias   |     5      |\n",
      "|  head2.2.x_proj.weight  |    325     |\n",
      "|  head2.2.dt_proj.weight |     5      |\n",
      "|   head2.2.dt_proj.bias  |     5      |\n",
      "| head2.2.out_proj.weight |     5      |\n",
      "|      head3.0.A_log      |    160     |\n",
      "|        head3.0.D        |     5      |\n",
      "|  head3.0.in_proj.weight |     10     |\n",
      "|  head3.0.conv1d.weight  |     20     |\n",
      "|   head3.0.conv1d.bias   |     5      |\n",
      "|  head3.0.x_proj.weight  |    325     |\n",
      "|  head3.0.dt_proj.weight |     5      |\n",
      "|   head3.0.dt_proj.bias  |     5      |\n",
      "| head3.0.out_proj.weight |     5      |\n",
      "|      head3.1.A_log      |    160     |\n",
      "|        head3.1.D        |     5      |\n",
      "|  head3.1.in_proj.weight |     10     |\n",
      "|  head3.1.conv1d.weight  |     20     |\n",
      "|   head3.1.conv1d.bias   |     5      |\n",
      "|  head3.1.x_proj.weight  |    325     |\n",
      "|  head3.1.dt_proj.weight |     5      |\n",
      "|   head3.1.dt_proj.bias  |     5      |\n",
      "| head3.1.out_proj.weight |     5      |\n",
      "|      head3.2.A_log      |    160     |\n",
      "|        head3.2.D        |     5      |\n",
      "|  head3.2.in_proj.weight |     10     |\n",
      "|  head3.2.conv1d.weight  |     20     |\n",
      "|   head3.2.conv1d.bias   |     5      |\n",
      "|  head3.2.x_proj.weight  |    325     |\n",
      "|  head3.2.dt_proj.weight |     5      |\n",
      "|   head3.2.dt_proj.bias  |     5      |\n",
      "| head3.2.out_proj.weight |     5      |\n",
      "|      head4.0.A_log      |    160     |\n",
      "|        head4.0.D        |     5      |\n",
      "|  head4.0.in_proj.weight |     10     |\n",
      "|  head4.0.conv1d.weight  |     20     |\n",
      "|   head4.0.conv1d.bias   |     5      |\n",
      "|  head4.0.x_proj.weight  |    325     |\n",
      "|  head4.0.dt_proj.weight |     5      |\n",
      "|   head4.0.dt_proj.bias  |     5      |\n",
      "| head4.0.out_proj.weight |     5      |\n",
      "|      head4.1.A_log      |    160     |\n",
      "|        head4.1.D        |     5      |\n",
      "|  head4.1.in_proj.weight |     10     |\n",
      "|  head4.1.conv1d.weight  |     20     |\n",
      "|   head4.1.conv1d.bias   |     5      |\n",
      "|  head4.1.x_proj.weight  |    325     |\n",
      "|  head4.1.dt_proj.weight |     5      |\n",
      "|   head4.1.dt_proj.bias  |     5      |\n",
      "| head4.1.out_proj.weight |     5      |\n",
      "|      head4.2.A_log      |    160     |\n",
      "|        head4.2.D        |     5      |\n",
      "|  head4.2.in_proj.weight |     10     |\n",
      "|  head4.2.conv1d.weight  |     20     |\n",
      "|   head4.2.conv1d.bias   |     5      |\n",
      "|  head4.2.x_proj.weight  |    325     |\n",
      "|  head4.2.dt_proj.weight |     5      |\n",
      "|   head4.2.dt_proj.bias  |     5      |\n",
      "| head4.2.out_proj.weight |     5      |\n",
      "|       norm.weight       |     1      |\n",
      "|      linear.weight      |     48     |\n",
      "|       linear.bias       |     12     |\n",
      "+-------------------------+------------+\n",
      "Total Trainable Params: 6541\n"
     ]
    },
    {
     "data": {
      "text/plain": [
       "6541"
      ]
     },
     "execution_count": 13,
     "metadata": {},
     "output_type": "execute_result"
    }
   ],
   "source": [
    "def count_parameters(model):\n",
    "    table = PrettyTable([\"Modules\", \"Parameters\"])\n",
    "    total_params = 0\n",
    "    for name, parameter in model.named_parameters():\n",
    "        if not parameter.requires_grad:\n",
    "            continue\n",
    "        params = parameter.numel()\n",
    "        table.add_row([name, params])\n",
    "        total_params += params\n",
    "    print(table)\n",
    "    print(f\"Total Trainable Params: {total_params}\")\n",
    "    return total_params\n",
    "    \n",
    "count_parameters(model)"
   ]
  },
  {
   "cell_type": "markdown",
   "metadata": {},
   "source": [
    "# Training"
   ]
  },
  {
   "cell_type": "code",
   "execution_count": 14,
   "metadata": {},
   "outputs": [],
   "source": [
    "# define loss and optimizer\n",
    "loss: torch.nn.Module = torch.nn.MSELoss()\n",
    "optimizer: torch.optim.Optimizer = torch.optim.Adam(model.parameters(), lr=lr)\n"
   ]
  },
  {
   "cell_type": "code",
   "execution_count": 15,
   "metadata": {},
   "outputs": [],
   "source": [
    "train_dataloader = DataLoader(train_dataset,\n",
    "                                   batch_size=batch_size,\n",
    "                                    shuffle=True,)\n",
    "\n",
    "\n",
    "validation_dataloader = DataLoader(validation_dataset,\n",
    "                                   batch_size=batch_size,\n",
    "                                    shuffle=True,)\n"
   ]
  },
  {
   "cell_type": "code",
   "execution_count": 16,
   "metadata": {},
   "outputs": [],
   "source": [
    "\n",
    "class Accuracy:\n",
    "    \"\"\"\n",
    "    This class is the accuracy object.\n",
    "\n",
    "    Attributes:\n",
    "        correct: number of correct predictions.\n",
    "        total: number of total examples to classify.\n",
    "    \"\"\"\n",
    "\n",
    "    correct: int\n",
    "    total: int\n",
    "\n",
    "    def __init__(self) -> None:\n",
    "        \"\"\"\n",
    "        This is the constructor of Accuracy class. It should\n",
    "        initialize correct and total to zero.\n",
    "        \"\"\"\n",
    "\n",
    "        self.correct = 0\n",
    "        self.total = 0\n",
    "\n",
    "    def update(self, logits: torch.Tensor, labels: torch.Tensor) -> None:\n",
    "        \"\"\"\n",
    "        This method update the value of correct and total counts.\n",
    "\n",
    "        Args:\n",
    "            logits: outputs of the model.\n",
    "                Dimensions: [batch, number of classes]\n",
    "            labels: labels of the examples. Dimensions: [batch].\n",
    "        \"\"\"\n",
    "\n",
    "        oh = torch.nn.functional.one_hot(logits.argmax(dim=-1), num_classes=labels.shape[-1])\n",
    "        \n",
    "        self.correct += int((oh*labels).sum())\n",
    "        self.total += labels.shape[0]\n",
    "\n",
    "\n",
    "        return None\n",
    "\n",
    "    def compute(self) -> float:\n",
    "        \"\"\"\n",
    "        This method returns the accuracy value.\n",
    "\n",
    "        Returns:\n",
    "            accuracy value.\n",
    "        \"\"\"\n",
    "\n",
    "        return self.correct / self.total\n",
    "\n",
    "    def reset(self) -> None:\n",
    "        \"\"\"\n",
    "        This method resets to zero the count of correct and total number of\n",
    "        examples.\n",
    "        \"\"\"\n",
    "\n",
    "        # init to zero the counts\n",
    "        self.correct = 0\n",
    "        self.total = 0\n",
    "\n",
    "        return None"
   ]
  },
  {
   "cell_type": "code",
   "execution_count": 17,
   "metadata": {},
   "outputs": [],
   "source": [
    "from typing import Optional\n",
    "\n",
    "@torch.enable_grad()\n",
    "def train_step(\n",
    "    model: torch.nn.Module,\n",
    "    train_data: DataLoader,\n",
    "    loss: torch.nn.Module,\n",
    "    optimizer: torch.optim.Optimizer,\n",
    "    writer: SummaryWriter,\n",
    "    epoch: int,\n",
    "    device: torch.device,\n",
    "    accuracy: Accuracy = Accuracy(),\n",
    ") -> None:\n",
    "    \"\"\"\n",
    "    This function train the model.\n",
    "\n",
    "    Args:\n",
    "        model: model to train.\n",
    "        train_data: dataloader of train data.\n",
    "        loss: loss function.\n",
    "        optimizer: optimizer.\n",
    "        writer: writer for tensorboard.\n",
    "        epoch: epoch of the training.\n",
    "        device: device for running operations.\n",
    "    \"\"\"\n",
    "    # Training\n",
    "    model.train()\n",
    "    losses = []\n",
    "\n",
    "    for inputs, targets in train_data:\n",
    "        inputs, targets = inputs.to(device), targets.to(device)\n",
    "\n",
    "        # forward\n",
    "        outputs = model(inputs)\n",
    "\n",
    "        # Compute loss\n",
    "        loss_value = loss(outputs, targets)\n",
    "        losses.append(loss_value.item())\n",
    "\n",
    "        optimizer.zero_grad()\n",
    "        loss_value.backward()\n",
    "        torch.nn.utils.clip_grad_norm_(model.parameters(), .50)\n",
    "        optimizer.step()\n",
    "\n",
    "        accuracy.update(outputs, targets)\n",
    "\n",
    "\n",
    "    # Write to tensorboard\n",
    "    writer.add_scalar(\"train/loss\", np.mean(losses), epoch)\n",
    "\n",
    "    writer.add_scalar(\"train/accuracy\", accuracy.compute(), epoch)\n",
    "    accuracy.reset()\n",
    "\n",
    "\n",
    "\n",
    "@torch.no_grad()\n",
    "def val_step(\n",
    "    model: torch.nn.Module,\n",
    "    val_data: DataLoader,\n",
    "    loss: torch.nn.Module,\n",
    "    scheduler: Optional[torch.optim.lr_scheduler.LRScheduler],\n",
    "    writer: SummaryWriter,\n",
    "    epoch: int,\n",
    "    device: torch.device,\n",
    "    accuracy: Accuracy = Accuracy(),\n",
    ") -> None:\n",
    "    \"\"\"\n",
    "    This function train the model.\n",
    "\n",
    "    Args:\n",
    "        model: model to train.\n",
    "        val_data: dataloader of validation data.\n",
    "        loss: loss function.\n",
    "        scheduler: scheduler.\n",
    "        writer: writer for tensorboard.\n",
    "        epoch: epoch of the training.\n",
    "        device: device for running operations.\n",
    "    \"\"\"\n",
    "    # Validation\n",
    "    model.eval()\n",
    "    losses = []\n",
    "\n",
    "    with torch.no_grad():\n",
    "        for inputs, targets in val_data:\n",
    "            inputs, targets = inputs.to(device), targets.to(device)\n",
    "\n",
    "            # forward\n",
    "            outputs = model(inputs)\n",
    "\n",
    "            # Compute loss\n",
    "            loss_value = loss(outputs, targets)\n",
    "            losses.append(loss_value.item())\n",
    "\n",
    "            # Update accuracy\n",
    "            accuracy.update(outputs, targets)\n",
    "\n",
    "\n",
    "    if scheduler is not None:\n",
    "        scheduler.step()\n",
    "\n",
    "    # Write to tensorboard\n",
    "    writer.add_scalar(\"val/loss\", np.mean(losses), epoch)\n",
    "\n",
    "    writer.add_scalar(\"val/accuracy\", accuracy.compute(), epoch)\n",
    "    accuracy.reset()\n"
   ]
  },
  {
   "cell_type": "code",
   "execution_count": 18,
   "metadata": {},
   "outputs": [
    {
     "name": "stderr",
     "output_type": "stream",
     "text": [
      "100%|██████████| 500/500 [18:32<00:00,  2.22s/it]\n"
     ]
    }
   ],
   "source": [
    "writer = SummaryWriter(TENSORBOARD_FILE)\n",
    "\n",
    "accuracy = Accuracy()\n",
    "# define an empty scheduler\n",
    "scheduler = torch.optim.lr_scheduler.StepLR(optimizer, step_size=45, gamma=0.5)\n",
    "# Train the model\n",
    "for epoch in tqdm(range(epochs)):  # loop over the dataset multiple times\n",
    "    # call train step\n",
    "    train_step(\n",
    "        model, train_dataloader, loss, optimizer, writer, epoch, DEVICE_USE, accuracy\n",
    "    )\n",
    "\n",
    "    # call val step\n",
    "    val_step(model, validation_dataloader, loss, scheduler, writer, epoch, DEVICE_USE, accuracy)\n",
    "\n",
    "    # clear the GPU cache\n",
    "    torch.cuda.empty_cache()"
   ]
  },
  {
   "cell_type": "code",
   "execution_count": 19,
   "metadata": {},
   "outputs": [],
   "source": [
    "torch.save(model.state_dict(), SAVE_PATH)"
   ]
  },
  {
   "cell_type": "markdown",
   "metadata": {},
   "source": [
    "# Reload Model, just because"
   ]
  },
  {
   "cell_type": "code",
   "execution_count": 20,
   "metadata": {},
   "outputs": [
    {
     "data": {
      "text/plain": [
       "<All keys matched successfully>"
      ]
     },
     "execution_count": 20,
     "metadata": {},
     "output_type": "execute_result"
    }
   ],
   "source": [
    "MODEL_CHKP = SAVE_PATH #+ \"-OK\"\n",
    "model.load_state_dict(torch.load(MODEL_CHKP, map_location=torch.device(DEVICE_USE)))"
   ]
  },
  {
   "cell_type": "markdown",
   "metadata": {},
   "source": [
    "# Validation Results\n",
    "\n",
    "Aca miramos un poco que tan bien quedo el modelo"
   ]
  },
  {
   "cell_type": "code",
   "execution_count": 21,
   "metadata": {},
   "outputs": [],
   "source": [
    "signal_pred = np.zeros((len(validation_dataset)))\n",
    "signal_target = np.zeros((len(validation_dataset)))\n",
    "data_conf_mat = np.zeros((NUM_CLASES,NUM_CLASES))\n",
    "\n",
    "i = 0\n",
    "for sample, target in validation_dataset:\n",
    "\n",
    "    y_hat = model(sample[None, :, : ].to(DEVICE_USE))\n",
    "\n",
    "    class_pred = np.argmax(target.to(\"cpu\").numpy(), axis=-1), \n",
    "    class_target = np.argmax(y_hat.to(\"cpu\").detach().numpy(), axis=-1)\n",
    "\n",
    "    data_conf_mat[class_target, class_pred] += 1\n",
    "\n",
    "    signal_pred[i] = class_pred[0]\n",
    "    signal_target[i] = class_target[0]\n",
    "\n",
    "    i+=1\n",
    "    \n",
    "\n"
   ]
  },
  {
   "cell_type": "code",
   "execution_count": 22,
   "metadata": {},
   "outputs": [
    {
     "data": {
      "image/png": "[encoded data removed]",
      "text/plain": [
       "<Figure size 640x480 with 1 Axes>"
      ]
     },
     "metadata": {},
     "output_type": "display_data"
    }
   ],
   "source": [
    "plt.plot(signal_target)\n",
    "plt.plot(signal_pred)\n",
    "plt.show()"
   ]
  },
  {
   "cell_type": "code",
   "execution_count": 24,
   "metadata": {},
   "outputs": [
    {
     "data": {
      "image/png": "[encoded data removed]",
      "text/plain": [
       "<Figure size 640x480 with 2 Axes>"
      ]
     },
     "metadata": {},
     "output_type": "display_data"
    }
   ],
   "source": [
    "# Ploteamos la matriz de confusion que nos dice visualmente donde y como se equivoca la red al clasificar\n",
    "# Una matriz diaganonal es un clasificador perfecto\n",
    "\n",
    "df_cm = pd.DataFrame(data_conf_mat, index = [str(i) for i in tones_dict.keys()],\n",
    "                  columns = [str(i) for i in tones_dict.keys()])\n",
    "plt.figure(dpi = 100)\n",
    "sn.heatmap(df_cm, annot=True)\n",
    "ax = plt.gca()\n",
    "ax.tick_params(axis='x', labelrotation=45)\n",
    "ax.tick_params(axis='y', labelrotation=0)\n",
    "plt.show()"
   ]
  }
 ],
 "metadata": {
  "kernelspec": {
   "display_name": ".venv",
   "language": "python",
   "name": "python3"
  },
  "language_info": {
   "codemirror_mode": {
    "name": "ipython",
    "version": 3
   },
   "file_extension": ".py",
   "mimetype": "text/x-python",
   "name": "python",
   "nbconvert_exporter": "python",
   "pygments_lexer": "ipython3",
   "version": "3.12.3"
  }
 },
 "nbformat": 4,
 "nbformat_minor": 2
}
